{
  "nbformat": 4,
  "nbformat_minor": 0,
  "metadata": {
    "colab": {
      "provenance": []
    },
    "kernelspec": {
      "name": "python3",
      "display_name": "Python 3"
    },
    "language_info": {
      "name": "python"
    }
  },
  "cells": [
    {
      "cell_type": "code",
      "execution_count": 1,
      "metadata": {
        "colab": {
          "base_uri": "https://localhost:8080/"
        },
        "id": "xNwu2s-oqZKP",
        "outputId": "44150212-a376-4780-8cea-f952b0bb37f7"
      },
      "outputs": [
        {
          "output_type": "execute_result",
          "data": {
            "text/plain": [
              "[('Virat Kohli', 24936),\n",
              " ('Jack Kallis', 25534),\n",
              " ('Ricky Ponting', 27483),\n",
              " ('Sachin Tendulkar', 34357)]"
            ]
          },
          "metadata": {},
          "execution_count": 1
        }
      ],
      "source": [
        "#  # Q1. Create a python program to sort the given list of tuples based on integer value using a\n",
        "#     lambda function.\n",
        "#  [('Sachin Tendulkar', 34357), ('Ricky Ponting', 27483), ('Jack Kallis', 25534), ('Virat Kohli', 24936)]\n",
        "\n",
        "l=  [('Sachin Tendulkar', 34357), ('Ricky Ponting', 27483), ('Jack Kallis', 25534), ('Virat Kohli', 24936)]\n",
        "\n",
        "\n",
        "sorted(l,key=lambda x:x[1])\n"
      ]
    },
    {
      "cell_type": "code",
      "source": [
        "# Q2. Write a Python Program to find the squares of all the numbers in the given list of integers using\n",
        "#     lambda and map functions.\n",
        "#     [1, 2, 3, 4, 5, 6, 7, 8, 9, 10]\n",
        "\n",
        "l =  [1, 2, 3, 4, 5, 6, 7, 8, 9, 10]\n",
        "\n",
        "q = lambda x : x**2\n",
        "\n",
        "p =list(map(lambda x: x**2 , l))\n",
        "\n",
        "print(p)"
      ],
      "metadata": {
        "colab": {
          "base_uri": "https://localhost:8080/"
        },
        "id": "G0L8YY31qaXq",
        "outputId": "61a58915-7ee0-4e29-a5f3-dbd38226fd92"
      },
      "execution_count": 2,
      "outputs": [
        {
          "output_type": "stream",
          "name": "stdout",
          "text": [
            "[1, 4, 9, 16, 25, 36, 49, 64, 81, 100]\n"
          ]
        }
      ]
    },
    {
      "cell_type": "code",
      "source": [
        "#  Q3. Write a python program to convert the given list of integers into a tuple of strings. Use map and\n",
        "#      lambda functions\n",
        "#     Given String: [1, 2, 3, 4, 5, 6, 7, 8, 9, 10]\n",
        "#     Expected output: ('1', '2', '3', '4', '5', '6', '7', '8', '9', '10')\n",
        "\n",
        "l = [1, 2, 3, 4, 5, 6, 7, 8, 9, 10]\n",
        "\n",
        "q = tuple(map(lambda x : str(x) , l))\n",
        "\n",
        "print(q)"
      ],
      "metadata": {
        "colab": {
          "base_uri": "https://localhost:8080/"
        },
        "id": "AUXNHH6FqfG_",
        "outputId": "feb616c8-38b7-49e0-ec5e-f666ead23dd8"
      },
      "execution_count": 3,
      "outputs": [
        {
          "output_type": "stream",
          "name": "stdout",
          "text": [
            "('1', '2', '3', '4', '5', '6', '7', '8', '9', '10')\n"
          ]
        }
      ]
    },
    {
      "cell_type": "code",
      "source": [
        "# Q4. Write a python program using reduce function to compute the product of a list containing numbers\n",
        "#     from 1 to 25.\n",
        "\n",
        "\n",
        "\n",
        "from functools import reduce\n",
        "\n",
        "l = list(range(1,26))\n",
        "\n",
        "reduce(lambda x,y : x*y ,l)"
      ],
      "metadata": {
        "colab": {
          "base_uri": "https://localhost:8080/"
        },
        "id": "66jZpMHBqlfq",
        "outputId": "1708fe17-2f84-4b9d-b8ba-a519e0dbd475"
      },
      "execution_count": 10,
      "outputs": [
        {
          "output_type": "execute_result",
          "data": {
            "text/plain": [
              "15511210043330985984000000"
            ]
          },
          "metadata": {},
          "execution_count": 10
        }
      ]
    },
    {
      "cell_type": "code",
      "source": [
        "# Q5. Write a python program to filter the numbers in a given list that are divisible by 2 and 3 using the\n",
        "#     filter function.\n",
        "#      [2, 3, 6, 9, 27, 60, 90, 120, 55, 46]\n",
        "\n",
        "l = [2, 3, 6, 9, 27, 60, 90, 120, 55, 46]\n",
        "\n",
        "q = list(filter(lambda x : x%2==0 and x%3==0 , l))\n",
        "\n",
        "print(list(q))"
      ],
      "metadata": {
        "colab": {
          "base_uri": "https://localhost:8080/"
        },
        "id": "h_n5X2Prqpjn",
        "outputId": "62cc778d-e70c-44bc-ea55-2482c59cc9ba"
      },
      "execution_count": 11,
      "outputs": [
        {
          "output_type": "stream",
          "name": "stdout",
          "text": [
            "[6, 60, 90, 120]\n"
          ]
        }
      ]
    },
    {
      "cell_type": "code",
      "source": [
        "#  Q6. Write a python program to find palindromes in the given list of strings using lambda and filter\n",
        "#      function.\n",
        "#      ['python', 'php', 'aba', 'radar', 'level']\n",
        "\n",
        "l = ['python', 'php', 'aba', 'radar', 'level']\n",
        "\n",
        "q = list(filter(lambda x : x==x[::-1] , l))\n",
        "\n",
        "print(str(q))\n",
        ""
      ],
      "metadata": {
        "colab": {
          "base_uri": "https://localhost:8080/"
        },
        "id": "20OgLq0RyoYg",
        "outputId": "87c49fbe-1828-48bb-9349-1ec3f892a178"
      },
      "execution_count": 13,
      "outputs": [
        {
          "output_type": "stream",
          "name": "stdout",
          "text": [
            "['php', 'aba', 'radar', 'level']\n"
          ]
        }
      ]
    },
    {
      "cell_type": "code",
      "source": [],
      "metadata": {
        "id": "TBwU2A2j2TJb"
      },
      "execution_count": null,
      "outputs": []
    }
  ]
}